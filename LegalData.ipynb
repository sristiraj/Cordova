{
  "nbformat": 4,
  "nbformat_minor": 0,
  "metadata": {
    "colab": {
      "provenance": [],
      "authorship_tag": "ABX9TyPkz/jzJah+CiVBYHjTHz/7",
      "include_colab_link": true
    },
    "kernelspec": {
      "name": "python3",
      "display_name": "Python 3"
    },
    "language_info": {
      "name": "python"
    },
    "accelerator": "GPU"
  },
  "cells": [
    {
      "cell_type": "markdown",
      "metadata": {
        "id": "view-in-github",
        "colab_type": "text"
      },
      "source": [
        "<a href=\"https://colab.research.google.com/github/sristiraj/Cordova/blob/master/LegalData.ipynb\" target=\"_parent\"><img src=\"https://colab.research.google.com/assets/colab-badge.svg\" alt=\"Open In Colab\"/></a>"
      ]
    },
    {
      "cell_type": "code",
      "source": [
        "!apt-get install openjdk-8-jdk-headless -qq > /dev/null"
      ],
      "metadata": {
        "id": "D6NJp-RBko9v"
      },
      "execution_count": 4,
      "outputs": []
    },
    {
      "cell_type": "code",
      "source": [
        "!wget -q https://downloads.apache.org/spark/spark-3.3.0/spark-3.3.0-bin-hadoop2.tgz"
      ],
      "metadata": {
        "id": "4vTeAwRlkw1Y"
      },
      "execution_count": 5,
      "outputs": []
    },
    {
      "cell_type": "code",
      "source": [
        "!tar -xf spark-3.3.0-bin-hadoop2.tgz"
      ],
      "metadata": {
        "id": "X_XvEVA4k5Ir"
      },
      "execution_count": 6,
      "outputs": []
    },
    {
      "cell_type": "code",
      "source": [
        "!pip install -q findspark"
      ],
      "metadata": {
        "id": "OAQripGSk8BC"
      },
      "execution_count": 7,
      "outputs": []
    },
    {
      "cell_type": "code",
      "source": [
        "import os\n",
        "os.environ[\"JAVA_HOME\"] = \"/usr/lib/jvm/java-8-openjdk-amd64\"\n",
        "os.environ[\"SPARK_HOME\"] = \"/content/spark-3.3.0-bin-hadoop2\""
      ],
      "metadata": {
        "id": "o8vURbPklBEW"
      },
      "execution_count": 8,
      "outputs": []
    },
    {
      "cell_type": "code",
      "source": [
        "import findspark\n",
        "findspark.init()"
      ],
      "metadata": {
        "id": "j7gyPip9lHqy"
      },
      "execution_count": 9,
      "outputs": []
    },
    {
      "cell_type": "code",
      "source": [
        "from pyspark.sql import SparkSession\n",
        "spark = SparkSession.builder.master('local').appName('test').config('spark.ui.port','4050').getOrCreate()"
      ],
      "metadata": {
        "id": "v_nrqT4olLTF"
      },
      "execution_count": 11,
      "outputs": []
    },
    {
      "cell_type": "code",
      "source": [
        "df = spark.read.csv(\"/content/lu45945bhceej.csv\",header=\"true\")"
      ],
      "metadata": {
        "id": "DuzAtj3bl2Ax"
      },
      "execution_count": 13,
      "outputs": []
    },
    {
      "cell_type": "code",
      "source": [
        "df.show()"
      ],
      "metadata": {
        "colab": {
          "base_uri": "https://localhost:8080/"
        },
        "id": "KxunGrs5mABl",
        "outputId": "5fc66eba-c8ec-4231-a321-44983889db79"
      },
      "execution_count": 14,
      "outputs": [
        {
          "output_type": "stream",
          "name": "stdout",
          "text": [
            "+--------------+------------+------------+----------------------+--------------------+------------+\n",
            "|DocumentNumber|DocumentDate|DocumentType|RefersToDocumentNumber|RefersToDocumentYear|     Remarks|\n",
            "+--------------+------------+------------+----------------------+--------------------+------------+\n",
            "|            27|  16/08/2021|           C|                  null|                null|        null|\n",
            "|             1|  15/02/2021|           T|                     8|                2020|2020 0008-00|\n",
            "|            67|  09/10/2020|           A|                  null|                null|        null|\n",
            "|           157|  09/10/2020|           A|                  null|                null|        null|\n",
            "|           189|  09/10/2020|           J|                  null|                null|        null|\n",
            "|           250|  09/10/2020|           R|                  2016|                  98|        null|\n",
            "|            87|  07/08/2020|           R|                  1992|                  97|        null|\n",
            "|             8|  03/07/2020|           B|                  null|                null|        null|\n",
            "|             2|  05/01/2020|           C|                  null|                null|        null|\n",
            "|            34|  21/06/2019|           A|                  null|                null|        null|\n",
            "|           117|  21/06/2019|           R|                  2013|                  84|        null|\n",
            "|            59|  15/10/2018|           R|                  2002|                 199|        null|\n",
            "|            62|  15/10/2018|           B|                  null|                null|        null|\n",
            "|            69|  15/10/2018|           C|                  null|                null|        null|\n",
            "|            97|  27/10/2017|           B|                  null|                null|        null|\n",
            "|           133|  27/10/2017|           B|                  null|                null|        null|\n",
            "|           190|  27/10/2017|           C|                  null|                null|        null|\n",
            "|            82|  17/10/2016|           R|                  2015|                 130|        null|\n",
            "|            98|  17/10/2016|           A|                  null|                null|        null|\n",
            "|           160|  17/10/2016|           A|                  2015|                  94|        null|\n",
            "+--------------+------------+------------+----------------------+--------------------+------------+\n",
            "only showing top 20 rows\n",
            "\n"
          ]
        }
      ]
    },
    {
      "cell_type": "code",
      "source": [
        "df.createOrReplaceTempView(\"legaldata\")"
      ],
      "metadata": {
        "id": "hsO47arNl6Qq"
      },
      "execution_count": 15,
      "outputs": []
    },
    {
      "cell_type": "code",
      "source": [
        "spark.sql('select DocumentNumber, DocumentDate from legaldata group by DocumentNumber, DocumentDate having count(*)>1').show()"
      ],
      "metadata": {
        "colab": {
          "base_uri": "https://localhost:8080/"
        },
        "id": "mVYLwivR3fEi",
        "outputId": "3cdea977-1716-4359-98b3-c6c56af9cb16"
      },
      "execution_count": 54,
      "outputs": [
        {
          "output_type": "stream",
          "name": "stdout",
          "text": [
            "+--------------+\n",
            "|DocumentNumber|\n",
            "+--------------+\n",
            "|            15|\n",
            "|            69|\n",
            "|           133|\n",
            "|           250|\n",
            "|           139|\n",
            "|            52|\n",
            "|           100|\n",
            "|            78|\n",
            "|            89|\n",
            "|            60|\n",
            "|            23|\n",
            "|            40|\n",
            "|            82|\n",
            "|           117|\n",
            "|           180|\n",
            "|            97|\n",
            "|            88|\n",
            "|             1|\n",
            "|           237|\n",
            "|            37|\n",
            "+--------------+\n",
            "only showing top 20 rows\n",
            "\n"
          ]
        }
      ]
    },
    {
      "cell_type": "code",
      "source": [
        "spark.sql(\"select max(cast(DocumentNumber as int)) from legaldata\").show()"
      ],
      "metadata": {
        "colab": {
          "base_uri": "https://localhost:8080/"
        },
        "id": "APn1QOwe0Hic",
        "outputId": "d6ce2cf1-93e9-443e-9308-94253c8ee38e"
      },
      "execution_count": 36,
      "outputs": [
        {
          "output_type": "stream",
          "name": "stdout",
          "text": [
            "+--------------------------------+\n",
            "|max(CAST(DocumentNumber AS INT))|\n",
            "+--------------------------------+\n",
            "|                           30112|\n",
            "+--------------------------------+\n",
            "\n"
          ]
        }
      ]
    },
    {
      "cell_type": "code",
      "source": [
        "spark.sql(\"select doc.DocumentNumber,doc.DocumentNumber DocumentNumber,doc.DocumentType DocumentType, \\\n",
        "          doc.DocumentDate, doc.RefersToDocumentNumber, doc.RefersToDocumentYear,\\\n",
        "          doc.Remarks\\\n",
        "          from legaldata doc left outer join legaldata refdoc on doc.RefersToDocumentNumber = refdoc.DocumentNumber\\\n",
        "          where 1=1 \\\n",
        "          and ((refdoc.DocumentType='T' and doc.DocumentType='J') or (refdoc.DocumentType='R')) \\\n",
        "          union\\\n",
        "          select doc.DocumentNumber,doc.DocumentNumber DocumentNumber,doc.DocumentType DocumentType, \\\n",
        "          doc.DocumentDate, doc.RefersToDocumentYear RefersToDocumentNumber, doc.RefersToDocumentNumber RefersToDocumentYear,\\\n",
        "          doc.Remarks\\\n",
        "          from legaldata doc left outer join legaldata refdoc on doc.RefersToDocumentYear = refdoc.DocumentNumber\\\n",
        "          where 1=1 \\\n",
        "          and ((refdoc.DocumentType='T' and doc.DocumentType='J') or (refdoc.DocumentType='R'))\").show()"
      ],
      "metadata": {
        "colab": {
          "base_uri": "https://localhost:8080/"
        },
        "id": "x1TTfMCimQmD",
        "outputId": "96d1e85f-4eae-4ecf-9f48-124fbe4a9020"
      },
      "execution_count": 49,
      "outputs": [
        {
          "output_type": "stream",
          "name": "stdout",
          "text": [
            "+--------------+--------------+------------+------------+----------------------+--------------------+-------+\n",
            "|DocumentNumber|DocumentNumber|DocumentType|DocumentDate|RefersToDocumentNumber|RefersToDocumentYear|Remarks|\n",
            "+--------------+--------------+------------+------------+----------------------+--------------------+-------+\n",
            "|            40|            40|           R|  11/01/2011|                    69|                1987|   null|\n",
            "|            88|            88|           R|  18/07/1988|                    88|                1987|   null|\n",
            "|           108|           108|           T|  24/12/2010|                    52|                2006|   null|\n",
            "|            87|            87|           R|  07/08/2020|                    97|                1992|   null|\n",
            "|            53|            53|           T|  14/10/1994|                    37|                1987|   null|\n",
            "+--------------+--------------+------------+------------+----------------------+--------------------+-------+\n",
            "\n"
          ]
        }
      ]
    },
    {
      "cell_type": "code",
      "source": [],
      "metadata": {
        "id": "FKKHBXAP3eKx"
      },
      "execution_count": null,
      "outputs": []
    },
    {
      "cell_type": "code",
      "source": [
        "spark.sql(\"select * from legaldata where DocumentNumber='69'\").show()"
      ],
      "metadata": {
        "colab": {
          "base_uri": "https://localhost:8080/"
        },
        "id": "T0HAtYDIy-tp",
        "outputId": "78cde8c3-7e86-4a11-9cd4-f5a9a4a00924"
      },
      "execution_count": 51,
      "outputs": [
        {
          "output_type": "stream",
          "name": "stdout",
          "text": [
            "+--------------+------------+------------+----------------------+--------------------+-------+\n",
            "|DocumentNumber|DocumentDate|DocumentType|RefersToDocumentNumber|RefersToDocumentYear|Remarks|\n",
            "+--------------+------------+------------+----------------------+--------------------+-------+\n",
            "|            69|  15/10/2018|           C|                  null|                null|   null|\n",
            "|            69|  01/02/1993|           R|                  1987|                 227|   null|\n",
            "|            69|  24/07/1987|           B|                  null|                null|   null|\n",
            "+--------------+------------+------------+----------------------+--------------------+-------+\n",
            "\n"
          ]
        }
      ]
    }
  ]
}